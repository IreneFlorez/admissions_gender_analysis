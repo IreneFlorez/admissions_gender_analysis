{
 "cells": [
  {
   "cell_type": "markdown",
   "metadata": {
    "collapsed": true
   },
   "source": [
    "# Simpson's Paradox\n",
    "Use `admission_data.csv` "
   ]
  },
  {
   "cell_type": "markdown",
   "metadata": {},
   "source": [
    "By only looking at gender and admission rates, males appear to be favored in the admissions process. Males were admitted at a rate of 48.6%, while females were admitted at a rate of 28.8%%"
   ]
  },
  {
   "cell_type": "markdown",
   "metadata": {},
   "source": [
    "When we look at gender and physics admission rates we see a different conclusion, females appear to be more favored in the admissions process. Female physics majors were admitted at a rate of 74.2%, while male physics majors were admitted at a rate of 51.6%. However, there are more male physics majors. 92.6% of males in this dataset have physics majors."
   ]
  },
  {
   "cell_type": "markdown",
   "metadata": {},
   "source": [
    "Looking at the chemistry data, we find that there are more female chemistry majors in this dataset. 87.9% of females have chemistry majors. However, chemistry has a lower admission rate, 21.7%, than physics at 54.3%. "
   ]
  },
  {
   "cell_type": "code",
   "execution_count": 1,
   "metadata": {},
   "outputs": [
    {
     "data": {
      "text/html": [
       "<div>\n",
       "<style>\n",
       "    .dataframe thead tr:only-child th {\n",
       "        text-align: right;\n",
       "    }\n",
       "\n",
       "    .dataframe thead th {\n",
       "        text-align: left;\n",
       "    }\n",
       "\n",
       "    .dataframe tbody tr th {\n",
       "        vertical-align: top;\n",
       "    }\n",
       "</style>\n",
       "<table border=\"1\" class=\"dataframe\">\n",
       "  <thead>\n",
       "    <tr style=\"text-align: right;\">\n",
       "      <th></th>\n",
       "      <th>student_id</th>\n",
       "      <th>gender</th>\n",
       "      <th>major</th>\n",
       "      <th>admitted</th>\n",
       "    </tr>\n",
       "  </thead>\n",
       "  <tbody>\n",
       "    <tr>\n",
       "      <th>0</th>\n",
       "      <td>35377</td>\n",
       "      <td>female</td>\n",
       "      <td>Chemistry</td>\n",
       "      <td>False</td>\n",
       "    </tr>\n",
       "    <tr>\n",
       "      <th>1</th>\n",
       "      <td>56105</td>\n",
       "      <td>male</td>\n",
       "      <td>Physics</td>\n",
       "      <td>True</td>\n",
       "    </tr>\n",
       "    <tr>\n",
       "      <th>2</th>\n",
       "      <td>31441</td>\n",
       "      <td>female</td>\n",
       "      <td>Chemistry</td>\n",
       "      <td>False</td>\n",
       "    </tr>\n",
       "    <tr>\n",
       "      <th>3</th>\n",
       "      <td>51765</td>\n",
       "      <td>male</td>\n",
       "      <td>Physics</td>\n",
       "      <td>True</td>\n",
       "    </tr>\n",
       "    <tr>\n",
       "      <th>4</th>\n",
       "      <td>53714</td>\n",
       "      <td>female</td>\n",
       "      <td>Physics</td>\n",
       "      <td>True</td>\n",
       "    </tr>\n",
       "  </tbody>\n",
       "</table>\n",
       "</div>"
      ],
      "text/plain": [
       "   student_id  gender      major  admitted\n",
       "0       35377  female  Chemistry     False\n",
       "1       56105    male    Physics      True\n",
       "2       31441  female  Chemistry     False\n",
       "3       51765    male    Physics      True\n",
       "4       53714  female    Physics      True"
      ]
     },
     "execution_count": 1,
     "metadata": {},
     "output_type": "execute_result"
    }
   ],
   "source": [
    "# Load and view first few lines of dataset\n",
    "import pandas as pd\n",
    "admits = pd.read_csv('admission_data.csv')\n",
    "admits.head()"
   ]
  },
  {
   "cell_type": "markdown",
   "metadata": {},
   "source": [
    "### Proportion and admission rate for each gender"
   ]
  },
  {
   "cell_type": "code",
   "execution_count": 2,
   "metadata": {},
   "outputs": [
    {
     "name": "stdout",
     "output_type": "stream",
     "text": [
      "500\n"
     ]
    }
   ],
   "source": [
    "total_students = admits.shape[0]\n",
    "print(admits.shape[0])"
   ]
  },
  {
   "cell_type": "code",
   "execution_count": 3,
   "metadata": {},
   "outputs": [
    {
     "name": "stdout",
     "output_type": "stream",
     "text": [
      "0.514\n"
     ]
    }
   ],
   "source": [
    "# Proportion of students that are female\n",
    "total_female_students = len(admits[admits['gender']=='female'])\n",
    "print(total_female_students/total_students)"
   ]
  },
  {
   "cell_type": "code",
   "execution_count": 4,
   "metadata": {},
   "outputs": [
    {
     "name": "stdout",
     "output_type": "stream",
     "text": [
      "0.486\n"
     ]
    }
   ],
   "source": [
    "# Proportion of students that are male\n",
    "total_male_students = len(admits[admits['gender']=='male'])\n",
    "print(total_male_students/total_students)"
   ]
  },
  {
   "cell_type": "code",
   "execution_count": 5,
   "metadata": {},
   "outputs": [
    {
     "data": {
      "text/plain": [
       "0.28793774319066145"
      ]
     },
     "execution_count": 5,
     "metadata": {},
     "output_type": "execute_result"
    }
   ],
   "source": [
    "# Admission rate for females\n",
    "admitted_females = len(admits[(admits['gender']=='female') & (admits['admitted'])])\n",
    "admitted_females/total_female_students"
   ]
  },
  {
   "cell_type": "code",
   "execution_count": 6,
   "metadata": {},
   "outputs": [
    {
     "data": {
      "text/plain": [
       "0.48559670781893005"
      ]
     },
     "execution_count": 6,
     "metadata": {},
     "output_type": "execute_result"
    }
   ],
   "source": [
    "# Admission rate for males\n",
    "admitted_males = len(admits[(admits['gender']=='male') & (admits['admitted'])])\n",
    "admitted_males/total_male_students"
   ]
  },
  {
   "cell_type": "markdown",
   "metadata": {},
   "source": [
    "### Admission rate for each major"
   ]
  },
  {
   "cell_type": "code",
   "execution_count": 7,
   "metadata": {},
   "outputs": [
    {
     "name": "stdout",
     "output_type": "stream",
     "text": [
      "0.54296875\n"
     ]
    }
   ],
   "source": [
    "# Admission rate for physics majors\n",
    "total_physics_applicants = len(admits[(admits['major']=='Physics')])\n",
    "admitted_physics_majors = len(admits[(admits['major']=='Physics') & (admits['admitted'])])\n",
    "print(admitted_physics_majors/total_physics_applicants)           "
   ]
  },
  {
   "cell_type": "code",
   "execution_count": 8,
   "metadata": {},
   "outputs": [
    {
     "name": "stdout",
     "output_type": "stream",
     "text": [
      "0.21721311475409835\n"
     ]
    }
   ],
   "source": [
    "# Admission rate for chemistry majors\n",
    "total_chemistry_applicants = len(admits[(admits['major']=='Chemistry')])\n",
    "admitted_chemistry_majors = len(admits[(admits['major']=='Chemistry') & (admits['admitted'])])\n",
    "print(admitted_chemistry_majors/total_chemistry_applicants)"
   ]
  },
  {
   "cell_type": "markdown",
   "metadata": {},
   "source": [
    "### Proportion and admission rate for physics majors of each gender"
   ]
  },
  {
   "cell_type": "code",
   "execution_count": 9,
   "metadata": {},
   "outputs": [
    {
     "name": "stdout",
     "output_type": "stream",
     "text": [
      "student_id    0.120623\n",
      "gender        0.120623\n",
      "major         0.120623\n",
      "admitted      0.120623\n",
      "dtype: float64\n"
     ]
    }
   ],
   "source": [
    "# What proportion of female students are majoring in physics?\n",
    "fem_phys_rate = admits.query(\"gender == 'female' & major == 'Physics'\").count()/ \\\n",
    "    (admits.query(\"gender == 'female'\").count())\n",
    "print (fem_phys_rate)"
   ]
  },
  {
   "cell_type": "code",
   "execution_count": 10,
   "metadata": {},
   "outputs": [
    {
     "name": "stdout",
     "output_type": "stream",
     "text": [
      "student_id    0.120623\n",
      "gender        0.120623\n",
      "major         0.120623\n",
      "admitted      0.120623\n",
      "dtype: float64\n"
     ]
    }
   ],
   "source": [
    "female_physics_majors = admits.query(\"gender == 'female' & major == 'Physics'\").count()\n",
    "fem_phys_rate=female_physics_majors/total_female_students\n",
    "print (fem_phys_rate)"
   ]
  },
  {
   "cell_type": "code",
   "execution_count": 11,
   "metadata": {},
   "outputs": [
    {
     "name": "stdout",
     "output_type": "stream",
     "text": [
      "student_id    0.925926\n",
      "gender        0.925926\n",
      "major         0.925926\n",
      "admitted      0.925926\n",
      "dtype: float64\n"
     ]
    }
   ],
   "source": [
    "# What proportion of male students are majoring in physics?\n",
    "male_physics_majors = admits.query(\"gender == 'male' & major == 'Physics'\").count()\n",
    "male_phys_rate=male_physics_majors/total_male_students\n",
    "print (male_phys_rate)"
   ]
  },
  {
   "cell_type": "code",
   "execution_count": 12,
   "metadata": {},
   "outputs": [
    {
     "name": "stdout",
     "output_type": "stream",
     "text": [
      "student_id    0.741935\n",
      "gender        0.741935\n",
      "major         0.741935\n",
      "admitted      0.741935\n",
      "dtype: float64\n"
     ]
    }
   ],
   "source": [
    "# Admission rate for female physics majors\n",
    "female_physics_admits = len(admits[(admits[\"gender\"]=='female') & (admits[\"major\"] == 'Physics') & admits[\"admitted\"]])\n",
    "fem_phys_admit_rate = female_physics_admits/female_physics_majors\n",
    "print(fem_phys_admit_rate)"
   ]
  },
  {
   "cell_type": "code",
   "execution_count": 13,
   "metadata": {},
   "outputs": [
    {
     "name": "stdout",
     "output_type": "stream",
     "text": [
      "student_id    0.515556\n",
      "gender        0.515556\n",
      "major         0.515556\n",
      "admitted      0.515556\n",
      "dtype: float64\n"
     ]
    }
   ],
   "source": [
    "# Admission rate for male physics majors\n",
    "male_physics_admits = len(admits[(admits[\"gender\"]=='male') & (admits[\"major\"] == 'Physics') & admits[\"admitted\"]])\n",
    "m_phys_admit_rate = male_physics_admits/male_physics_majors\n",
    "print(m_phys_admit_rate)"
   ]
  },
  {
   "cell_type": "code",
   "execution_count": 16,
   "metadata": {},
   "outputs": [
    {
     "name": "stdout",
     "output_type": "stream",
     "text": [
      "student_id    31\n",
      "gender        31\n",
      "major         31\n",
      "admitted      31\n",
      "dtype: int64\n",
      "student_id    225\n",
      "gender        225\n",
      "major         225\n",
      "admitted      225\n",
      "dtype: int64\n"
     ]
    }
   ],
   "source": [
    "print (female_physics_majors)\n",
    "print (male_physics_majors)"
   ]
  },
  {
   "cell_type": "code",
   "execution_count": null,
   "metadata": {
    "collapsed": true
   },
   "outputs": [],
   "source": []
  }
 ],
 "metadata": {
  "kernelspec": {
   "display_name": "Python 3",
   "language": "python",
   "name": "python3"
  },
  "language_info": {
   "codemirror_mode": {
    "name": "ipython",
    "version": 3
   },
   "file_extension": ".py",
   "mimetype": "text/x-python",
   "name": "python",
   "nbconvert_exporter": "python",
   "pygments_lexer": "ipython3",
   "version": "3.6.3"
  }
 },
 "nbformat": 4,
 "nbformat_minor": 2
}
